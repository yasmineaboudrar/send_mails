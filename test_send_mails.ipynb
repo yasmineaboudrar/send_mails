{
    "cells": [
        {
            "cell_type": "code",
            "execution_count": 3,
            "source": [
                "import yagmail"
            ],
            "outputs": [],
            "metadata": {}
        },
        {
            "cell_type": "code",
            "execution_count": 12,
            "source": [
                "#importing the Yagmail library\r\n",
                "import yagmail"
            ],
            "outputs": [],
            "metadata": {}
        },
        {
            "cell_type": "code",
            "execution_count": 17,
            "source": [
                "\r\n",
                "\r\n",
                "try:\r\n",
                "    #initializing the server connection\r\n",
                "    yag = yagmail.SMTP(user='aboudraryasmine@gmail.com', password='Yasmine1997@*')\r\n",
                "    #sending the email\r\n",
                "    yag.send(to='k.ahzoum@labelvie.ma', cc = 'mehdiaboudrar838@gmail.com', subject='Testing Yagmail', contents='Hurray, it worked!', attachments=['inputs/CV_Yasmine_ABOUDRAR_en.pdf', 'inputs/CV_Yasmine_ABOUDRAR_fr.pdf', 'inputs/Recommandation Yasmine Aboudrar.pdf'])\r\n",
                "    print(\"Email sent successfully\")\r\n",
                "    \r\n",
                "except:\r\n",
                "    print(\"Error, email was not sent\")"
            ],
            "outputs": [
                {
                    "output_type": "stream",
                    "name": "stdout",
                    "text": [
                        "Email sent successfully\n"
                    ]
                }
            ],
            "metadata": {}
        },
        {
            "cell_type": "code",
            "execution_count": null,
            "source": [],
            "outputs": [],
            "metadata": {}
        }
    ],
    "metadata": {
        "orig_nbformat": 4,
        "language_info": {
            "name": "python",
            "version": "3.8.10",
            "mimetype": "text/x-python",
            "codemirror_mode": {
                "name": "ipython",
                "version": 3
            },
            "pygments_lexer": "ipython3",
            "nbconvert_exporter": "python",
            "file_extension": ".py"
        },
        "kernelspec": {
            "name": "python3",
            "display_name": "Python 3.8.10 64-bit ('Projects': conda)"
        },
        "interpreter": {
            "hash": "c8faec805a12d1b663380d2dace406fb2ecba7e4bc3572c56e84db7a46283368"
        }
    },
    "nbformat": 4,
    "nbformat_minor": 2
}